{
 "cells": [
  {
   "cell_type": "markdown",
   "metadata": {},
   "source": [
    "### Nexus $2\\pi$ DataSegments.XML repair tool\n",
    "\n",
    "###### instructions: paste in the complete DataSegments.XML file within the quotes below and then run all cells"
   ]
  },
  {
   "cell_type": "code",
   "execution_count": null,
   "metadata": {},
   "outputs": [],
   "source": [
    "xmlString = \"\"\"\n",
    "** PASTE IN THE XML HERE **\n",
    "\"\"\""
   ]
  },
  {
   "cell_type": "code",
   "execution_count": null,
   "metadata": {},
   "outputs": [],
   "source": [
    "!pip install bs4\n",
    "#minPad is the minimum amount of padding needed between segments\n",
    "#maxPad is the maximum allowable amount of padding and if exceeded, \n",
    "#       will be replaced with the minimum\n",
    "\n",
    "minPad = 250\n",
    "maxPad = 10000"
   ]
  },
  {
   "cell_type": "code",
   "execution_count": null,
   "metadata": {},
   "outputs": [],
   "source": [
    "from bs4 import BeautifulSoup\n",
    "soup = BeautifulSoup(xmlString, \"html.parser\")\n",
    "print(\"-------------------------\")\n",
    "print(\"      original XML       \")\n",
    "print(\"-------------------------\")\n",
    "print(soup.prettify())"
   ]
  },
  {
   "cell_type": "code",
   "execution_count": null,
   "metadata": {},
   "outputs": [],
   "source": [
    "# makesSense returns true if the duration does not exceed the max pad\n",
    "def makesSense(thisNumber, previousStart, previousDuration, maxPad):\n",
    "    return thisNumber < previousStart + previousDuration + maxPad\n",
    "\n",
    "# the numeric tags are starts or duration, starts are even indices\n",
    "def isStartIndex(index):\n",
    "    return index % 2 == 0"
   ]
  },
  {
   "cell_type": "code",
   "execution_count": null,
   "metadata": {},
   "outputs": [],
   "source": [
    "import re\n",
    "listOfString = (re.split('>|<', xmlString))\n",
    "listOfNumbers = []\n",
    "for string in listOfString:\n",
    "    if(string.isnumeric()):\n",
    "        listOfNumbers.append(int(string))\n",
    "listOfNumbers"
   ]
  },
  {
   "cell_type": "code",
   "execution_count": null,
   "metadata": {},
   "outputs": [],
   "source": [
    "noSecondSegment = True\n",
    "noRepairedSegments = True\n",
    "\n",
    "for index, number in enumerate(listOfNumbers):\n",
    "    if index > 1 and isStartIndex(index) :\n",
    "        noSecondSegment = False\n",
    "        print(\"Start Segment:\")\n",
    "        print(index, number)\n",
    "        print(\"prevDuration=\",listOfNumbers[index-1])\n",
    "        prevDuration = listOfNumbers[index-1]\n",
    "        print(\"prevStart=\",listOfNumbers[index-2])\n",
    "        prevStart = listOfNumbers[index-2]\n",
    "        print(\"padDetected=\", number-(prevStart+prevDuration))\n",
    "        print(\"makesSense=\",makesSense(number,prevStart,prevDuration,maxPad))\n",
    "        if not makesSense(number,prevStart,prevDuration,maxPad):\n",
    "            print(\"repair required\")\n",
    "            correctedValue = prevStart+prevDuration+minPad\n",
    "            print(\"correctedValue=\",correctedValue)\n",
    "            xmlString = xmlString.replace(str(number),str(correctedValue))\n",
    "            listOfNumbers[index] = correctedValue\n",
    "            print(\"value replaced\")\n",
    "            noRepairedSegments = False\n",
    "        print(\"--------------------------------------\")\n",
    "if noSecondSegment:\n",
    "    print(\"Only one segment in this XML.  Nothing to repair.\")\n",
    "if noRepairedSegments:\n",
    "    print(\"There were no segments that received a repair.\")"
   ]
  },
  {
   "cell_type": "code",
   "execution_count": null,
   "metadata": {},
   "outputs": [],
   "source": [
    "soup = BeautifulSoup(xmlString, \"html.parser\")\n",
    "print(\"-------------------------\")\n",
    "print(\"      corrected XML      \")\n",
    "print(\"-------------------------\")\n",
    "print(soup.prettify())"
   ]
  },
  {
   "cell_type": "code",
   "execution_count": null,
   "metadata": {},
   "outputs": [],
   "source": [
    "print(xmlString)"
   ]
  },
  {
   "cell_type": "markdown",
   "metadata": {},
   "source": [
    "### Copy above output over the original file text data.  Be sure to save a backup of the original."
   ]
  }
 ],
 "metadata": {
  "kernelspec": {
   "display_name": "Python 3",
   "language": "python",
   "name": "python3"
  },
  "language_info": {
   "codemirror_mode": {
    "name": "ipython",
    "version": 3
   },
   "file_extension": ".py",
   "mimetype": "text/x-python",
   "name": "python",
   "nbconvert_exporter": "python",
   "pygments_lexer": "ipython3",
   "version": "3.8.5"
  }
 },
 "nbformat": 4,
 "nbformat_minor": 4
}

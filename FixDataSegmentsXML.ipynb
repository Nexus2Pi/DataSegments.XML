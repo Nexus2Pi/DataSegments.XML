{
 "cells": [
  {
   "cell_type": "markdown",
   "metadata": {},
   "source": [
    "### Nexus $2\\pi$ DataSegments.XML repair tool\n",
    "\n",
    "###### instructions: paste in the complete DataSegments.XML file within the quotes below and then run all cells"
   ]
  },
  {
   "cell_type": "code",
   "execution_count": 42,
   "metadata": {},
   "outputs": [],
   "source": [
    "xmlString = \"\"\"\n",
    "** PASTE IN THE XML HERE **\n",
    "\"\"\""
   ]
  },
  {
   "cell_type": "code",
   "execution_count": 43,
   "metadata": {},
   "outputs": [],
   "source": [
    "#minPad is the minimum amount of padding needed between segments\n",
    "#maxPad is the maximum allowable amount of padding and if exceeded, \n",
    "#       will be replaced with the minimum\n",
    "\n",
    "minPad = 250\n",
    "maxPad = 10000"
   ]
  },
  {
   "cell_type": "code",
   "execution_count": 44,
   "metadata": {},
   "outputs": [
    {
     "name": "stdout",
     "output_type": "stream",
     "text": [
      "-------------------------\n",
      "      original XML       \n",
      "-------------------------\n",
      "<?xml version=\"1.0\" encoding=\"utf-8\"?>\n",
      "<?xml version=\"1.0\" encoding=\"utf-8\"?>\n",
      "<DataSegments>\n",
      " <DataSegment>\n",
      "  <Start>\n",
      "   0\n",
      "  </Start>\n",
      "  <Duration>\n",
      "   425\n",
      "  </Duration>\n",
      "  <VideoServer/>\n",
      "  <VideoID>\n",
      "   LOCAL\n",
      "  </VideoID>\n",
      " </DataSegment>\n",
      " <DataSegment>\n",
      "  <Start>\n",
      "   437\n",
      "  </Start>\n",
      "  <Duration>\n",
      "   9710\n",
      "  </Duration>\n",
      "  <VideoServer/>\n",
      "  <VideoID>\n",
      "   LOCAL\n",
      "  </VideoID>\n",
      " </DataSegment>\n",
      " <DataSegment>\n",
      "  <Start>\n",
      "   10367\n",
      "  </Start>\n",
      "  <Duration>\n",
      "   7192\n",
      "  </Duration>\n",
      "  <VideoServer/>\n",
      "  <VideoID>\n",
      "   LOCAL\n",
      "  </VideoID>\n",
      " </DataSegment>\n",
      " <DataSegment>\n",
      "  <Start>\n",
      "   17800\n",
      "  </Start>\n",
      "  <Duration>\n",
      "   8269\n",
      "  </Duration>\n",
      "  <VideoServer/>\n",
      "  <VideoID>\n",
      "   LOCAL\n",
      "  </VideoID>\n",
      " </DataSegment>\n",
      "</DataSegments>\n"
     ]
    }
   ],
   "source": [
    "from bs4 import BeautifulSoup\n",
    "soup = BeautifulSoup(xmlString, \"xml\")\n",
    "print(\"-------------------------\")\n",
    "print(\"      original XML       \")\n",
    "print(\"-------------------------\")\n",
    "print(soup.prettify())"
   ]
  },
  {
   "cell_type": "code",
   "execution_count": 45,
   "metadata": {},
   "outputs": [],
   "source": [
    "# makesSense returns true if the duration does not exceed the max pad\n",
    "def makesSense(thisNumber, previousStart, previousDuration, maxPad):\n",
    "    return thisNumber < previousStart + previousDuration + maxPad\n",
    "\n",
    "# the numeric tags are starts or duration, starts are even indices\n",
    "def isStartIndex(index):\n",
    "    return index % 2 == 0"
   ]
  },
  {
   "cell_type": "code",
   "execution_count": 46,
   "metadata": {},
   "outputs": [
    {
     "data": {
      "text/plain": [
       "[0, 425, 437, 9710, 10367, 7192, 17800, 8269]"
      ]
     },
     "execution_count": 46,
     "metadata": {},
     "output_type": "execute_result"
    }
   ],
   "source": [
    "import re\n",
    "listOfString = (re.split('>|<', xmlString))\n",
    "listOfNumbers = []\n",
    "for string in listOfString:\n",
    "    if(string.isnumeric()):\n",
    "        listOfNumbers.append(int(string))\n",
    "listOfNumbers"
   ]
  },
  {
   "cell_type": "code",
   "execution_count": 47,
   "metadata": {},
   "outputs": [
    {
     "name": "stdout",
     "output_type": "stream",
     "text": [
      "Start Segment:\n",
      "2 437\n",
      "prevDuration= 425\n",
      "prevStart= 0\n",
      "padDetected= 12\n",
      "makesSense= True\n",
      "--------------------------------------\n",
      "Start Segment:\n",
      "4 10367\n",
      "prevDuration= 9710\n",
      "prevStart= 437\n",
      "padDetected= 220\n",
      "makesSense= True\n",
      "--------------------------------------\n",
      "Start Segment:\n",
      "6 17800\n",
      "prevDuration= 7192\n",
      "prevStart= 10367\n",
      "padDetected= 241\n",
      "makesSense= True\n",
      "--------------------------------------\n",
      "There were no segments that received a repair.\n"
     ]
    }
   ],
   "source": [
    "noSecondSegment = True\n",
    "noRepairedSegments = True\n",
    "\n",
    "for index, number in enumerate(listOfNumbers):\n",
    "    if index > 1 and isStartIndex(index) :\n",
    "        noSecondSegment = False\n",
    "        print(\"Start Segment:\")\n",
    "        print(index, number)\n",
    "        print(\"prevDuration=\",listOfNumbers[index-1])\n",
    "        prevDuration = listOfNumbers[index-1]\n",
    "        print(\"prevStart=\",listOfNumbers[index-2])\n",
    "        prevStart = listOfNumbers[index-2]\n",
    "        print(\"padDetected=\", number-(prevStart+prevDuration))\n",
    "        print(\"makesSense=\",makesSense(number,prevStart,prevDuration,maxPad))\n",
    "        if not makesSense(number,prevStart,prevDuration,maxPad):\n",
    "            print(\"repair required\")\n",
    "            correctedValue = prevStart+prevDuration+minPad\n",
    "            print(\"correctedValue=\",correctedValue)\n",
    "            xmlString = xmlString.replace(str(number),str(correctedValue))\n",
    "            listOfNumbers[index] = correctedValue\n",
    "            print(\"value replaced\")\n",
    "            noRepairedSegments = False\n",
    "        print(\"--------------------------------------\")\n",
    "if noSecondSegment:\n",
    "    print(\"Only one segment in this XML.  Nothing to repair.\")\n",
    "if noRepairedSegments:\n",
    "    print(\"There were no segments that received a repair.\")"
   ]
  },
  {
   "cell_type": "code",
   "execution_count": 48,
   "metadata": {},
   "outputs": [
    {
     "name": "stdout",
     "output_type": "stream",
     "text": [
      "-------------------------\n",
      "      corrected XML      \n",
      "-------------------------\n",
      "<?xml version=\"1.0\" encoding=\"utf-8\"?>\n",
      "<?xml version=\"1.0\" encoding=\"utf-8\"?>\n",
      "<DataSegments>\n",
      " <DataSegment>\n",
      "  <Start>\n",
      "   0\n",
      "  </Start>\n",
      "  <Duration>\n",
      "   425\n",
      "  </Duration>\n",
      "  <VideoServer/>\n",
      "  <VideoID>\n",
      "   LOCAL\n",
      "  </VideoID>\n",
      " </DataSegment>\n",
      " <DataSegment>\n",
      "  <Start>\n",
      "   437\n",
      "  </Start>\n",
      "  <Duration>\n",
      "   9710\n",
      "  </Duration>\n",
      "  <VideoServer/>\n",
      "  <VideoID>\n",
      "   LOCAL\n",
      "  </VideoID>\n",
      " </DataSegment>\n",
      " <DataSegment>\n",
      "  <Start>\n",
      "   10367\n",
      "  </Start>\n",
      "  <Duration>\n",
      "   7192\n",
      "  </Duration>\n",
      "  <VideoServer/>\n",
      "  <VideoID>\n",
      "   LOCAL\n",
      "  </VideoID>\n",
      " </DataSegment>\n",
      " <DataSegment>\n",
      "  <Start>\n",
      "   17800\n",
      "  </Start>\n",
      "  <Duration>\n",
      "   8269\n",
      "  </Duration>\n",
      "  <VideoServer/>\n",
      "  <VideoID>\n",
      "   LOCAL\n",
      "  </VideoID>\n",
      " </DataSegment>\n",
      "</DataSegments>\n"
     ]
    }
   ],
   "source": [
    "soup = BeautifulSoup(xmlString, \"xml\")\n",
    "print(\"-------------------------\")\n",
    "print(\"      corrected XML      \")\n",
    "print(\"-------------------------\")\n",
    "print(soup.prettify())"
   ]
  },
  {
   "cell_type": "code",
   "execution_count": 49,
   "metadata": {},
   "outputs": [
    {
     "name": "stdout",
     "output_type": "stream",
     "text": [
      "\n",
      "<?xml version=\"1.0\" encoding=\"utf-8\"?>\n",
      "<DataSegments><DataSegment><Start>0</Start><Duration>425</Duration><VideoServer></VideoServer><VideoID>LOCAL</VideoID></DataSegment><DataSegment><Start>437</Start><Duration>9710</Duration><VideoServer></VideoServer><VideoID>LOCAL</VideoID></DataSegment><DataSegment><Start>10367</Start><Duration>7192</Duration><VideoServer></VideoServer><VideoID>LOCAL</VideoID></DataSegment><DataSegment><Start>17800</Start><Duration>8269</Duration><VideoServer></VideoServer><VideoID>LOCAL</VideoID></DataSegment></DataSegments>\n",
      "\n"
     ]
    }
   ],
   "source": [
    "print(xmlString)"
   ]
  },
  {
   "cell_type": "markdown",
   "metadata": {},
   "source": [
    "### Copy above output over the original file text data.  Be sure to save a backup of the original."
   ]
  }
 ],
 "metadata": {
  "kernelspec": {
   "display_name": "Python 3",
   "language": "python",
   "name": "python3"
  },
  "language_info": {
   "codemirror_mode": {
    "name": "ipython",
    "version": 3
   },
   "file_extension": ".py",
   "mimetype": "text/x-python",
   "name": "python",
   "nbconvert_exporter": "python",
   "pygments_lexer": "ipython3",
   "version": "3.8.5"
  }
 },
 "nbformat": 4,
 "nbformat_minor": 4
}
